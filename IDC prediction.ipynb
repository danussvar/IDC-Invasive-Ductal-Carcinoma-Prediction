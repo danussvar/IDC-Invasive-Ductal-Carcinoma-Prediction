{
 "cells": [
  {
   "cell_type": "code",
   "execution_count": 1,
   "metadata": {},
   "outputs": [],
   "source": [
    "#splitting the classes\n",
    "\n",
    "import glob\n",
    "import fnmatch\n",
    "\n",
    "images = glob.glob('D:\\Data_Science\\Datasets\\IDC\\**\\*.PNG',recursive=True)\n",
    "\n",
    "pattern0 = '*class0.PNG'\n",
    "pattern1 = '*class1.PNG'\n",
    "\n",
    "class0 = fnmatch.filter(images,pattern0)\n",
    "class1 = fnmatch.filter(images,pattern1)\n",
    "\n"
   ]
  },
  {
   "cell_type": "code",
   "execution_count": null,
   "metadata": {},
   "outputs": [],
   "source": []
  },
  {
   "cell_type": "code",
   "execution_count": 2,
   "metadata": {},
   "outputs": [],
   "source": [
    "#resizing the images to make it all of the same size\n",
    "\n",
    "import cv2\n",
    "\n",
    "def resizing(lower,upper):\n",
    "    height = 50\n",
    "    width = 50\n",
    "    channels = 3\n",
    "    x = []\n",
    "    y = []\n",
    "    for img in images[lower:upper]:\n",
    "        full_image = cv2.imread(img)\n",
    "        image = (cv2.resize(full_image,(width,height),interpolation=cv2.INTER_CUBIC))\n",
    "        x.append(image)\n",
    "        if img in class0:\n",
    "            y.append(0)\n",
    "        elif img in class1:\n",
    "            y.append(1)\n",
    "        else:\n",
    "            return\n",
    "    return x,y,image "
   ]
  },
  {
   "cell_type": "code",
   "execution_count": 3,
   "metadata": {},
   "outputs": [
    {
     "name": "stdout",
     "output_type": "stream",
     "text": [
      "done\n"
     ]
    }
   ],
   "source": [
    "#calling the resizing function\n",
    "\n",
    "x , y , image= resizing(0,100000)\n",
    "print(\"done\")"
   ]
  },
  {
   "cell_type": "code",
   "execution_count": 4,
   "metadata": {},
   "outputs": [
    {
     "name": "stdout",
     "output_type": "stream",
     "text": [
      "100000\n",
      "100000\n"
     ]
    },
    {
     "data": {
      "text/plain": [
       "(50, 50, 3)"
      ]
     },
     "execution_count": 4,
     "metadata": {},
     "output_type": "execute_result"
    }
   ],
   "source": [
    "print(len(y))\n",
    "print(len(x))\n",
    "image.shape"
   ]
  },
  {
   "cell_type": "code",
   "execution_count": null,
   "metadata": {},
   "outputs": [],
   "source": []
  },
  {
   "cell_type": "code",
   "execution_count": 5,
   "metadata": {},
   "outputs": [],
   "source": [
    "#data preprocessing\n",
    "\n",
    "import numpy as np\n",
    "\n",
    "x = np.array(x)\n",
    "x = x.astype(np.float32)\n",
    "\n",
    "#normalizing the data\n",
    "x /= 255."
   ]
  },
  {
   "cell_type": "code",
   "execution_count": 6,
   "metadata": {},
   "outputs": [
    {
     "data": {
      "text/plain": [
       "(100000, 50, 50, 3)"
      ]
     },
     "execution_count": 6,
     "metadata": {},
     "output_type": "execute_result"
    }
   ],
   "source": [
    "x.shape"
   ]
  },
  {
   "cell_type": "code",
   "execution_count": null,
   "metadata": {},
   "outputs": [],
   "source": []
  },
  {
   "cell_type": "code",
   "execution_count": 7,
   "metadata": {},
   "outputs": [],
   "source": [
    "#spliting the train and test data\n",
    "\n",
    "from sklearn.model_selection import train_test_split\n",
    "xtrain, xtest, ytrain, ytest = train_test_split(x,y,test_size=0.2)"
   ]
  },
  {
   "cell_type": "code",
   "execution_count": 8,
   "metadata": {},
   "outputs": [
    {
     "name": "stdout",
     "output_type": "stream",
     "text": [
      "(80000, 50, 50, 3)\n",
      "(20000, 50, 50, 3)\n"
     ]
    }
   ],
   "source": [
    "print(xtrain.shape)\n",
    "print(xtest.shape)"
   ]
  },
  {
   "cell_type": "code",
   "execution_count": 9,
   "metadata": {},
   "outputs": [
    {
     "name": "stdout",
     "output_type": "stream",
     "text": [
      "80000\n",
      "56683\n",
      "23317 \n",
      "\n",
      "20000\n",
      "14218\n",
      "5782\n"
     ]
    }
   ],
   "source": [
    "print(len(ytrain))\n",
    "print(ytrain.count(0))\n",
    "print(ytrain.count(1),'\\n')\n",
    "\n",
    "print(len(ytest))\n",
    "print(ytest.count(0))\n",
    "print(ytest.count(1))\n",
    "#here their is a majority and minority. This will lead to a biased model, to solve this...."
   ]
  },
  {
   "cell_type": "code",
   "execution_count": null,
   "metadata": {},
   "outputs": [],
   "source": []
  },
  {
   "cell_type": "code",
   "execution_count": 10,
   "metadata": {
    "scrolled": true
   },
   "outputs": [
    {
     "name": "stderr",
     "output_type": "stream",
     "text": [
      "Using TensorFlow backend.\n"
     ]
    }
   ],
   "source": [
    "##One-Hot-Encode ytrain and ytest\n",
    "\n",
    "from keras.utils import to_categorical\n",
    "\n",
    "ytrain = to_categorical(ytrain)\n",
    "ytest = to_categorical(ytest)"
   ]
  },
  {
   "cell_type": "code",
   "execution_count": 11,
   "metadata": {},
   "outputs": [
    {
     "name": "stdout",
     "output_type": "stream",
     "text": [
      "(80000, 2)\n",
      "(20000, 2)\n"
     ]
    }
   ],
   "source": [
    "print(ytrain.shape)\n",
    "print(ytest.shape)"
   ]
  },
  {
   "cell_type": "code",
   "execution_count": 13,
   "metadata": {},
   "outputs": [],
   "source": [
    "#reshaping and flattening x to randomize it\n",
    "\n",
    "X_trainShape = xtrain.shape[1]*xtrain.shape[2]*xtrain.shape[3]\n",
    "X_testShape = xtest.shape[1]*xtest.shape[2]*xtest.shape[3]\n",
    "X_trainFlat = xtrain.reshape(xtrain.shape[0], X_trainShape)\n",
    "X_testFlat = xtest.reshape(xtest.shape[0], X_testShape)"
   ]
  },
  {
   "cell_type": "code",
   "execution_count": 15,
   "metadata": {},
   "outputs": [
    {
     "name": "stdout",
     "output_type": "stream",
     "text": [
      "7500\n",
      "7500\n",
      "(80000, 7500)\n",
      "(20000, 7500)\n"
     ]
    }
   ],
   "source": [
    "print(X_trainShape)\n",
    "print(X_testShape)\n",
    "print(X_trainFlat.shape)\n",
    "print(X_testFlat.shape)"
   ]
  },
  {
   "cell_type": "code",
   "execution_count": null,
   "metadata": {},
   "outputs": [],
   "source": []
  },
  {
   "cell_type": "code",
   "execution_count": 16,
   "metadata": {},
   "outputs": [],
   "source": [
    "#solving the majority-minority issue but the data is selected randomly\n",
    "\n",
    "from imblearn.under_sampling import RandomUnderSampler\n",
    "random_under_sampler = RandomUnderSampler(ratio='majority')\n",
    "x_train, y_train = random_under_sampler.fit_sample(X_trainFlat, ytrain)\n",
    "x_test, y_test = random_under_sampler.fit_sample(X_testFlat, ytest)"
   ]
  },
  {
   "cell_type": "code",
   "execution_count": 17,
   "metadata": {},
   "outputs": [
    {
     "name": "stdout",
     "output_type": "stream",
     "text": [
      "(46634, 7500)\n",
      "(46634, 1)\n",
      "(11564, 7500)\n",
      "(11564, 1)\n"
     ]
    }
   ],
   "source": [
    "print(x_train.shape)\n",
    "print(y_train.shape)\n",
    "print(x_test.shape)\n",
    "print(y_test.shape)"
   ]
  },
  {
   "cell_type": "code",
   "execution_count": 18,
   "metadata": {},
   "outputs": [],
   "source": [
    "#One-hot-encoding\n",
    "y_train = to_categorical(y_train, num_classes = 2)\n",
    "y_test = to_categorical(y_test, num_classes = 2)"
   ]
  },
  {
   "cell_type": "code",
   "execution_count": 22,
   "metadata": {},
   "outputs": [
    {
     "name": "stdout",
     "output_type": "stream",
     "text": [
      "(46634, 2)\n",
      "(11564, 2)\n"
     ]
    }
   ],
   "source": [
    "print(y_train.shape)\n",
    "print(y_test.shape)"
   ]
  },
  {
   "cell_type": "code",
   "execution_count": 23,
   "metadata": {},
   "outputs": [],
   "source": [
    "for i in range(len(x_train)):\n",
    "    height,width,channels = 50,50,3\n",
    "    x_train = x_train.reshape(len(x_train),height,width,channels)"
   ]
  },
  {
   "cell_type": "code",
   "execution_count": 24,
   "metadata": {},
   "outputs": [
    {
     "data": {
      "text/plain": [
       "(46634, 50, 50, 3)"
      ]
     },
     "execution_count": 24,
     "metadata": {},
     "output_type": "execute_result"
    }
   ],
   "source": [
    "x_train.shape"
   ]
  },
  {
   "cell_type": "code",
   "execution_count": 25,
   "metadata": {},
   "outputs": [],
   "source": [
    "for i in range(len(x_test)):\n",
    "    height,width,channels = 50,50,3\n",
    "    x_test = x_test.reshape(len(x_test),height,width,channels)"
   ]
  },
  {
   "cell_type": "code",
   "execution_count": 26,
   "metadata": {},
   "outputs": [
    {
     "data": {
      "text/plain": [
       "(11564, 50, 50, 3)"
      ]
     },
     "execution_count": 26,
     "metadata": {},
     "output_type": "execute_result"
    }
   ],
   "source": [
    "x_test.shape"
   ]
  },
  {
   "cell_type": "code",
   "execution_count": 27,
   "metadata": {},
   "outputs": [
    {
     "name": "stdout",
     "output_type": "stream",
     "text": [
      "(46634, 50, 50, 3)\n",
      "(46634, 2)\n",
      "(11564, 50, 50, 3)\n",
      "(11564, 2)\n"
     ]
    }
   ],
   "source": [
    "print(x_train.shape)\n",
    "print(y_train.shape)\n",
    "print(x_test.shape)\n",
    "print(y_test.shape)"
   ]
  },
  {
   "cell_type": "code",
   "execution_count": null,
   "metadata": {},
   "outputs": [],
   "source": []
  },
  {
   "cell_type": "code",
   "execution_count": 28,
   "metadata": {},
   "outputs": [
    {
     "name": "stderr",
     "output_type": "stream",
     "text": [
      "WARNING: Logging before flag parsing goes to stderr.\n",
      "W1107 23:11:30.958270 12900 deprecation_wrapper.py:119] From C:\\Users\\DanussvaR\\Anaconda3\\lib\\site-packages\\keras\\backend\\tensorflow_backend.py:74: The name tf.get_default_graph is deprecated. Please use tf.compat.v1.get_default_graph instead.\n",
      "\n",
      "W1107 23:11:30.991183 12900 deprecation_wrapper.py:119] From C:\\Users\\DanussvaR\\Anaconda3\\lib\\site-packages\\keras\\backend\\tensorflow_backend.py:517: The name tf.placeholder is deprecated. Please use tf.compat.v1.placeholder instead.\n",
      "\n",
      "W1107 23:11:30.999184 12900 deprecation_wrapper.py:119] From C:\\Users\\DanussvaR\\Anaconda3\\lib\\site-packages\\keras\\backend\\tensorflow_backend.py:4138: The name tf.random_uniform is deprecated. Please use tf.random.uniform instead.\n",
      "\n",
      "W1107 23:11:31.017112 12900 deprecation_wrapper.py:119] From C:\\Users\\DanussvaR\\Anaconda3\\lib\\site-packages\\keras\\backend\\tensorflow_backend.py:3976: The name tf.nn.max_pool is deprecated. Please use tf.nn.max_pool2d instead.\n",
      "\n",
      "W1107 23:11:31.055019 12900 deprecation_wrapper.py:119] From C:\\Users\\DanussvaR\\Anaconda3\\lib\\site-packages\\keras\\backend\\tensorflow_backend.py:133: The name tf.placeholder_with_default is deprecated. Please use tf.compat.v1.placeholder_with_default instead.\n",
      "\n",
      "W1107 23:11:31.060996 12900 deprecation.py:506] From C:\\Users\\DanussvaR\\Anaconda3\\lib\\site-packages\\keras\\backend\\tensorflow_backend.py:3445: calling dropout (from tensorflow.python.ops.nn_ops) with keep_prob is deprecated and will be removed in a future version.\n",
      "Instructions for updating:\n",
      "Please use `rate` instead of `keep_prob`. Rate should be set to `rate = 1 - keep_prob`.\n"
     ]
    }
   ],
   "source": [
    "#building the neural network\n",
    "\n",
    "from keras.preprocessing.image import ImageDataGenerator \n",
    "from keras.models import Sequential \n",
    "from keras.layers import Conv2D, MaxPooling2D \n",
    "from keras.layers import Activation, Dropout, Flatten, Dense \n",
    "\n",
    "num_classes = 2\n",
    "\n",
    "model = Sequential()\n",
    "\n",
    "model.add(Conv2D(32,kernel_size=(3,3),activation='relu',input_shape=(50,50,3)))\n",
    "model.add(MaxPooling2D(pool_size=(2,2)))\n",
    "model.add(Conv2D(64,(3,3),activation='relu'))\n",
    "model.add(MaxPooling2D(pool_size=(2,2)))\n",
    "model.add(Conv2D(128,(3,3),activation='relu'))\n",
    "model.add(MaxPooling2D(pool_size=(2,2)))\n",
    "model.add(Conv2D(256,(3,3),activation='relu'))\n",
    "model.add(MaxPooling2D(pool_size=(2,2)))\n",
    "\n",
    "model.add(Flatten())\n",
    "model.add(Dropout(0.5))\n",
    "model.add(Dense(128, activation='relu'))\n",
    "model.add(Dropout(0.5))\n",
    "model.add(Dense(128, activation='relu'))\n",
    "model.add(Dense(num_classes, activation='sigmoid'))\n"
   ]
  },
  {
   "cell_type": "code",
   "execution_count": 29,
   "metadata": {},
   "outputs": [
    {
     "name": "stderr",
     "output_type": "stream",
     "text": [
      "W1107 23:11:49.497719 12900 deprecation_wrapper.py:119] From C:\\Users\\DanussvaR\\Anaconda3\\lib\\site-packages\\keras\\optimizers.py:790: The name tf.train.Optimizer is deprecated. Please use tf.compat.v1.train.Optimizer instead.\n",
      "\n",
      "W1107 23:11:49.524648 12900 deprecation_wrapper.py:119] From C:\\Users\\DanussvaR\\Anaconda3\\lib\\site-packages\\keras\\backend\\tensorflow_backend.py:3376: The name tf.log is deprecated. Please use tf.math.log instead.\n",
      "\n",
      "W1107 23:11:49.528639 12900 deprecation.py:323] From C:\\Users\\DanussvaR\\Anaconda3\\lib\\site-packages\\tensorflow\\python\\ops\\nn_impl.py:180: add_dispatch_support.<locals>.wrapper (from tensorflow.python.ops.array_ops) is deprecated and will be removed in a future version.\n",
      "Instructions for updating:\n",
      "Use tf.where in 2.0, which has the same broadcast rule as np.where\n"
     ]
    }
   ],
   "source": [
    "#compiling the model\n",
    "\n",
    "model.compile(loss ='binary_crossentropy', \n",
    "                     optimizer ='adam', \n",
    "                   metrics =['accuracy']) "
   ]
  },
  {
   "cell_type": "code",
   "execution_count": 30,
   "metadata": {},
   "outputs": [],
   "source": [
    "#data agumentation\n",
    "\n",
    "datagen = ImageDataGenerator(\n",
    "    featurewise_center=True,\n",
    "    featurewise_std_normalization=True,\n",
    "    rotation_range=180,\n",
    "    width_shift_range=0.2,\n",
    "    height_shift_range=0.2,\n",
    "    horizontal_flip=True,vertical_flip = True)"
   ]
  },
  {
   "cell_type": "code",
   "execution_count": 31,
   "metadata": {},
   "outputs": [],
   "source": [
    "#to avoid overfitting\n",
    "\n",
    "from keras import callbacks\n",
    "\n",
    "early_stopping_monitor = callbacks.EarlyStopping(monitor='val_loss', patience=3, mode='min')"
   ]
  },
  {
   "cell_type": "code",
   "execution_count": 32,
   "metadata": {},
   "outputs": [],
   "source": [
    "#creating a checkpoint\n",
    "\n",
    "model_checkpoint = callbacks.ModelCheckpoint('best_model_IDC_prediction.h5', monitor='val_loss', mode='min', verbose=1, save_best_only=True)"
   ]
  },
  {
   "cell_type": "code",
   "execution_count": 33,
   "metadata": {},
   "outputs": [],
   "source": [
    "batch = 67\n",
    "epochs = 100\n",
    "img_width = 50\n",
    "img_height = 50"
   ]
  },
  {
   "cell_type": "code",
   "execution_count": null,
   "metadata": {},
   "outputs": [],
   "source": []
  },
  {
   "cell_type": "code",
   "execution_count": 34,
   "metadata": {
    "scrolled": true
   },
   "outputs": [
    {
     "name": "stdout",
     "output_type": "stream",
     "text": [
      "Epoch 1/100\n"
     ]
    },
    {
     "name": "stderr",
     "output_type": "stream",
     "text": [
      "C:\\Users\\DanussvaR\\Anaconda3\\lib\\site-packages\\keras_preprocessing\\image\\image_data_generator.py:716: UserWarning: This ImageDataGenerator specifies `featurewise_center`, but it hasn't been fit on any training data. Fit it first by calling `.fit(numpy_data)`.\n",
      "  warnings.warn('This ImageDataGenerator specifies '\n",
      "C:\\Users\\DanussvaR\\Anaconda3\\lib\\site-packages\\keras_preprocessing\\image\\image_data_generator.py:724: UserWarning: This ImageDataGenerator specifies `featurewise_std_normalization`, but it hasn't been fit on any training data. Fit it first by calling `.fit(numpy_data)`.\n",
      "  warnings.warn('This ImageDataGenerator specifies '\n"
     ]
    },
    {
     "name": "stdout",
     "output_type": "stream",
     "text": [
      "697/696 [==============================] - 69s 99ms/step - loss: 0.5477 - acc: 0.7361 - val_loss: 0.4765 - val_acc: 0.7828\n",
      "\n",
      "Epoch 00001: val_loss improved from inf to 0.47652, saving model to best_model_IDC_prediction.h5\n",
      "Epoch 2/100\n",
      "697/696 [==============================] - 66s 94ms/step - loss: 0.4884 - acc: 0.7798 - val_loss: 0.4706 - val_acc: 0.7884\n",
      "\n",
      "Epoch 00002: val_loss improved from 0.47652 to 0.47061, saving model to best_model_IDC_prediction.h5\n",
      "Epoch 3/100\n",
      "697/696 [==============================] - 65s 94ms/step - loss: 0.4646 - acc: 0.7903 - val_loss: 0.4566 - val_acc: 0.7833\n",
      "\n",
      "Epoch 00003: val_loss improved from 0.47061 to 0.45659, saving model to best_model_IDC_prediction.h5\n",
      "Epoch 4/100\n",
      "697/696 [==============================] - 65s 94ms/step - loss: 0.4536 - acc: 0.7959 - val_loss: 0.4386 - val_acc: 0.8069\n",
      "\n",
      "Epoch 00004: val_loss improved from 0.45659 to 0.43862, saving model to best_model_IDC_prediction.h5\n",
      "Epoch 5/100\n",
      "697/696 [==============================] - 66s 95ms/step - loss: 0.4413 - acc: 0.8034 - val_loss: 0.4471 - val_acc: 0.8011\n",
      "\n",
      "Epoch 00005: val_loss did not improve from 0.43862\n",
      "Epoch 6/100\n",
      "697/696 [==============================] - 66s 95ms/step - loss: 0.4329 - acc: 0.8069 - val_loss: 0.4222 - val_acc: 0.8142\n",
      "\n",
      "Epoch 00006: val_loss improved from 0.43862 to 0.42223, saving model to best_model_IDC_prediction.h5\n",
      "Epoch 7/100\n",
      "697/696 [==============================] - 66s 94ms/step - loss: 0.4208 - acc: 0.8154 - val_loss: 0.4198 - val_acc: 0.8152\n",
      "\n",
      "Epoch 00007: val_loss improved from 0.42223 to 0.41979, saving model to best_model_IDC_prediction.h5\n",
      "Epoch 8/100\n",
      "697/696 [==============================] - 67s 96ms/step - loss: 0.4157 - acc: 0.8168 - val_loss: 0.3952 - val_acc: 0.8329\n",
      "\n",
      "Epoch 00008: val_loss improved from 0.41979 to 0.39521, saving model to best_model_IDC_prediction.h5\n",
      "Epoch 9/100\n",
      "697/696 [==============================] - 69s 99ms/step - loss: 0.4118 - acc: 0.8184 - val_loss: 0.4834 - val_acc: 0.7803\n",
      "\n",
      "Epoch 00009: val_loss did not improve from 0.39521\n",
      "Epoch 10/100\n",
      "697/696 [==============================] - 67s 97ms/step - loss: 0.4135 - acc: 0.8196 - val_loss: 0.3921 - val_acc: 0.8328\n",
      "\n",
      "Epoch 00010: val_loss improved from 0.39521 to 0.39211, saving model to best_model_IDC_prediction.h5\n",
      "Epoch 11/100\n",
      "697/696 [==============================] - 66s 95ms/step - loss: 0.4042 - acc: 0.8225 - val_loss: 0.3925 - val_acc: 0.8310\n",
      "\n",
      "Epoch 00011: val_loss did not improve from 0.39211\n",
      "Epoch 12/100\n",
      "697/696 [==============================] - 66s 94ms/step - loss: 0.4022 - acc: 0.8232 - val_loss: 0.4127 - val_acc: 0.8208\n",
      "\n",
      "Epoch 00012: val_loss did not improve from 0.39211\n",
      "Epoch 13/100\n",
      "697/696 [==============================] - 67s 95ms/step - loss: 0.4048 - acc: 0.8240 - val_loss: 0.3971 - val_acc: 0.8294\n",
      "\n",
      "Epoch 00013: val_loss did not improve from 0.39211\n"
     ]
    }
   ],
   "source": [
    "#fitting the data\n",
    "\n",
    "train = model.fit_generator(datagen.flow(x_train,y_train,batch_size=batch),steps_per_epoch=len(x_train)/batch,epochs=epochs,\n",
    "                            validation_data=(x_test,y_test),verbose=1,callbacks=[early_stopping_monitor, model_checkpoint])"
   ]
  },
  {
   "cell_type": "code",
   "execution_count": null,
   "metadata": {},
   "outputs": [],
   "source": []
  },
  {
   "cell_type": "code",
   "execution_count": 35,
   "metadata": {},
   "outputs": [],
   "source": [
    "import matplotlib.pyplot as plt\n",
    "import seaborn as sns\n",
    "sns.set()"
   ]
  },
  {
   "cell_type": "code",
   "execution_count": 36,
   "metadata": {
    "scrolled": true
   },
   "outputs": [
    {
     "data": {
      "image/png": "[encoded data removed]",
      "text/plain": [
       "<Figure size 432x288 with 1 Axes>"
      ]
     },
     "metadata": {
      "needs_background": "light"
     },
     "output_type": "display_data"
    }
   ],
   "source": [
    "plt.plot(train.history['loss'])\n",
    "plt.plot(train.history['val_loss'])\n",
    "plt.title('loss model')\n",
    "plt.ylabel('loss')\n",
    "plt.xlabel('epoch')\n",
    "plt.legend(['train', 'test'], loc='upper left')\n",
    "plt.show()"
   ]
  },
  {
   "cell_type": "code",
   "execution_count": null,
   "metadata": {},
   "outputs": [],
   "source": []
  },
  {
   "cell_type": "code",
   "execution_count": 41,
   "metadata": {},
   "outputs": [
    {
     "name": "stdout",
     "output_type": "stream",
     "text": [
      "         Predicted Class 0  Predicted Class 1\n",
      "Class 0               4842                940\n",
      "Class 1                993               4789\n"
     ]
    }
   ],
   "source": [
    "from keras.models import load_model\n",
    "from sklearn.metrics import confusion_matrix\n",
    "import pandas as pd\n",
    "\n",
    "model = load_model('best_model_IDC_prediction.h5')\n",
    "\n",
    "y_pred = model.predict(x_test)\n",
    "y_predict = np.argmax(y_pred, axis = 1)\n",
    "\n",
    "y_true = np.argmax(y_test,axis=1)\n",
    "\n",
    "Confusion_Matrix = pd.DataFrame(confusion_matrix(y_true, y_predict),\n",
    "             columns=[\"Predicted Class \" + str(class_name) for class_name in [0,1]],\n",
    "             index = [\"Class \" + str(class_name) for class_name in [0,1]])\n",
    "print(Confusion_Matrix)"
   ]
  },
  {
   "cell_type": "code",
   "execution_count": null,
   "metadata": {},
   "outputs": [],
   "source": []
  },
  {
   "cell_type": "code",
   "execution_count": 42,
   "metadata": {},
   "outputs": [
    {
     "name": "stdout",
     "output_type": "stream",
     "text": [
      "              precision    recall  f1-score   support\n",
      "\n",
      "           0       0.83      0.84      0.83      5782\n",
      "           1       0.84      0.83      0.83      5782\n",
      "\n",
      "    accuracy                           0.83     11564\n",
      "   macro avg       0.83      0.83      0.83     11564\n",
      "weighted avg       0.83      0.83      0.83     11564\n",
      "\n"
     ]
    }
   ],
   "source": [
    "from sklearn.metrics import classification_report\n",
    "\n",
    "print(classification_report(y_true, y_predict))"
   ]
  },
  {
   "cell_type": "code",
   "execution_count": null,
   "metadata": {},
   "outputs": [],
   "source": []
  },
  {
   "cell_type": "code",
   "execution_count": 43,
   "metadata": {},
   "outputs": [
    {
     "data": {
      "image/png": "[encoded data removed]",
      "text/plain": [
       "<Figure size 432x288 with 1 Axes>"
      ]
     },
     "metadata": {
      "needs_background": "light"
     },
     "output_type": "display_data"
    }
   ],
   "source": [
    "from sklearn.metrics import roc_curve\n",
    "\n",
    "#ROC Curve\n",
    "fpr, tpr, thresholds = roc_curve(y_true, y_predict)\n",
    "# plot no skill\n",
    "plt.plot([0, 1], [0, 1], linestyle='--',label='random guess')\n",
    "# plot the roc curve for the model\n",
    "plt.plot(fpr, tpr, 'k',label='ROC curve')\n",
    "\n",
    "plt.xlabel('false positive rate')\n",
    "plt.ylabel('true positive rate')\n",
    "plt.title('ROC curve')\n",
    "\n",
    "plt.legend()\n",
    "plt.show()"
   ]
  },
  {
   "cell_type": "code",
   "execution_count": null,
   "metadata": {},
   "outputs": [],
   "source": []
  },
  {
   "cell_type": "code",
   "execution_count": 44,
   "metadata": {},
   "outputs": [
    {
     "data": {
      "image/png": "[encoded data removed]",
      "text/plain": [
       "<Figure size 432x288 with 1 Axes>"
      ]
     },
     "metadata": {
      "needs_background": "light"
     },
     "output_type": "display_data"
    }
   ],
   "source": [
    "from sklearn.metrics import precision_recall_curve \n",
    "\n",
    "#Precision vs Recall Curve\n",
    "precision, recall, thresholds = precision_recall_curve(y_true, y_predict)\n",
    "plt.plot(precision, recall, label='Precision vs recall curve')\n",
    "\n",
    "plt.xlabel('Precision')\n",
    "plt.ylabel('Recall')\n",
    "plt.title('Precision vs recall curve')\n",
    "\n",
    "plt.legend()\n",
    "plt.show()"
   ]
  },
  {
   "cell_type": "code",
   "execution_count": null,
   "metadata": {},
   "outputs": [],
   "source": []
  }
 ],
 "metadata": {
  "kernelspec": {
   "display_name": "Python 3",
   "language": "python",
   "name": "python3"
  },
  "language_info": {
   "codemirror_mode": {
    "name": "ipython",
    "version": 3
   },
   "file_extension": ".py",
   "mimetype": "text/x-python",
   "name": "python",
   "nbconvert_exporter": "python",
   "pygments_lexer": "ipython3",
   "version": "3.7.3"
  }
 },
 "nbformat": 4,
 "nbformat_minor": 2
}
